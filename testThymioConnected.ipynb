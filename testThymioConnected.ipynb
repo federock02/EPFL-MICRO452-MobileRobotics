{
 "cells": [
  {
   "cell_type": "code",
   "execution_count": 1,
   "metadata": {},
   "outputs": [],
   "source": [
    "# from vision import Vision\n",
    "from globalPlanning import GlobalPlanning\n",
    "from localPlanning import LocalPlanning\n",
    "from thymioControl import ThymioControl\n",
    "from kalman import Kalman\n",
    "from plotter import Plotter\n",
    "\n",
    "import numpy as np\n",
    "import math\n",
    "import time"
   ]
  },
  {
   "cell_type": "code",
   "execution_count": 2,
   "metadata": {},
   "outputs": [
    {
     "name": "stdout",
     "output_type": "stream",
     "text": [
      "Requirement already satisfied: tdmclient in c:\\users\\feder\\appdata\\local\\programs\\python\\python310\\lib\\site-packages (0.1.21)\n",
      "Requirement already satisfied: websockets in c:\\users\\feder\\appdata\\local\\programs\\python\\python310\\lib\\site-packages (from tdmclient) (14.1)\n",
      "Requirement already satisfied: zeroconf in c:\\users\\feder\\appdata\\local\\programs\\python\\python310\\lib\\site-packages (from tdmclient) (0.136.2)\n",
      "Requirement already satisfied: async-timeout>=3.0.0 in c:\\users\\feder\\appdata\\local\\programs\\python\\python310\\lib\\site-packages (from zeroconf->tdmclient) (5.0.1)\n",
      "Requirement already satisfied: ifaddr>=0.1.7 in c:\\users\\feder\\appdata\\local\\programs\\python\\python310\\lib\\site-packages (from zeroconf->tdmclient) (0.2.0)\n"
     ]
    }
   ],
   "source": [
    "!pip3 install tdmclient --upgrade"
   ]
  },
  {
   "cell_type": "code",
   "execution_count": 3,
   "metadata": {},
   "outputs": [
    {
     "ename": "NodeLockError",
     "evalue": "Node lock error (current status: busy)",
     "output_type": "error",
     "traceback": [
      "\u001b[1;31m---------------------------------------------------------------------------\u001b[0m",
      "\u001b[1;31mNodeLockError\u001b[0m                             Traceback (most recent call last)",
      "Cell \u001b[1;32mIn[3], line 2\u001b[0m\n\u001b[0;32m      1\u001b[0m \u001b[38;5;28;01mimport\u001b[39;00m \u001b[38;5;21;01mtdmclient\u001b[39;00m\u001b[38;5;21;01m.\u001b[39;00m\u001b[38;5;21;01mnotebook\u001b[39;00m\n\u001b[1;32m----> 2\u001b[0m \u001b[38;5;28;01mawait\u001b[39;00m tdmclient\u001b[38;5;241m.\u001b[39mnotebook\u001b[38;5;241m.\u001b[39mstart()\n",
      "File \u001b[1;32mc:\\Users\\feder\\AppData\\Local\\Programs\\Python\\Python310\\lib\\site-packages\\tdmclient\\notebook\\private.py:112\u001b[0m, in \u001b[0;36mstart\u001b[1;34m(zeroconf, zeroconf_all, tdm_ws, tdm_addr, tdm_port, password, debug, **kwargs)\u001b[0m\n\u001b[0;32m    107\u001b[0m client \u001b[38;5;241m=\u001b[39m ClientAsync(zeroconf\u001b[38;5;241m=\u001b[39mzeroconf, zeroconf_all\u001b[38;5;241m=\u001b[39mzeroconf_all,\n\u001b[0;32m    108\u001b[0m                      tdm_addr\u001b[38;5;241m=\u001b[39mtdm_addr, tdm_port\u001b[38;5;241m=\u001b[39mtdm_port, tdm_ws\u001b[38;5;241m=\u001b[39mtdm_ws,\n\u001b[0;32m    109\u001b[0m                      password\u001b[38;5;241m=\u001b[39mpassword,\n\u001b[0;32m    110\u001b[0m                      debug\u001b[38;5;241m=\u001b[39mdebug)\n\u001b[0;32m    111\u001b[0m node \u001b[38;5;241m=\u001b[39m \u001b[38;5;28;01mawait\u001b[39;00m client\u001b[38;5;241m.\u001b[39mwait_for_node(\u001b[38;5;241m*\u001b[39m\u001b[38;5;241m*\u001b[39mkwargs)\n\u001b[1;32m--> 112\u001b[0m \u001b[38;5;28;01mawait\u001b[39;00m node\u001b[38;5;241m.\u001b[39mlock()\n\u001b[0;32m    114\u001b[0m \u001b[38;5;28;01mglobal\u001b[39;00m _interactive_console\n\u001b[0;32m    115\u001b[0m _interactive_console \u001b[38;5;241m=\u001b[39m TDMConsole(local_var\u001b[38;5;241m=\u001b[39mget_ipython()\u001b[38;5;241m.\u001b[39muser_ns)\n",
      "File \u001b[1;32mc:\\Users\\feder\\AppData\\Local\\Programs\\Python\\Python310\\lib\\site-packages\\tdmclient\\clientasyncnode.py:61\u001b[0m, in \u001b[0;36mClientAsyncNode.lock\u001b[1;34m(self)\u001b[0m\n\u001b[0;32m     59\u001b[0m result \u001b[38;5;241m=\u001b[39m \u001b[38;5;28;01myield from\u001b[39;00m \u001b[38;5;28mself\u001b[39m\u001b[38;5;241m.\u001b[39mlock_node()\n\u001b[0;32m     60\u001b[0m \u001b[38;5;28;01mif\u001b[39;00m result \u001b[38;5;129;01mis\u001b[39;00m \u001b[38;5;129;01mnot\u001b[39;00m \u001b[38;5;28;01mNone\u001b[39;00m:\n\u001b[1;32m---> 61\u001b[0m     \u001b[38;5;28;01mraise\u001b[39;00m NodeLockError(\u001b[38;5;28mself\u001b[39m\u001b[38;5;241m.\u001b[39mstatus)\n\u001b[0;32m     62\u001b[0m \u001b[38;5;28;01mreturn\u001b[39;00m \u001b[38;5;28mself\u001b[39m\n",
      "\u001b[1;31mNodeLockError\u001b[0m: Node lock error (current status: busy)"
     ]
    }
   ],
   "source": [
    "import tdmclient.notebook\n",
    "await tdmclient.notebook.start()"
   ]
  },
  {
   "cell_type": "code",
   "execution_count": null,
   "metadata": {},
   "outputs": [],
   "source": [
    "import time\n",
    "\n",
    "@tdmclient.notebook.sync_var\n",
    "def motor_go(left,right):\n",
    "    global motor_left_target, motor_right_target\n",
    "    motor_left_target = left\n",
    "    motor_right_target = right\n",
    "    \n",
    "@tdmclient.notebook.sync_var\n",
    "def motor_stop():\n",
    "    global motor_left_target,motor_right_target\n",
    "    motor_left_target = 0\n",
    "    motor_right_target = 0\n",
    "    \n",
    "@tdmclient.notebook.sync_var\n",
    "def sensor_data():\n",
    "    global prox_horizontal\n",
    "    return prox_horizontal.copy()\n",
    "\n",
    "@tdmclient.notebook.sync_var\n",
    "def leds_off():\n",
    "    global leds_top, leds_bottom_left, leds_bottom_right, leds_circle\n",
    "    leds_top = [0, 0, 0]\n",
    "    leds_bottom_left = [0, 0, 0]\n",
    "    leds_bottom_right = [0, 0, 0]\n",
    "    leds_circle = [0, 0, 0, 0, 0, 0, 0, 0]\n",
    "\n",
    "def leds_go_crazy():\n",
    "    for i in range(8):\n",
    "        leds_1()\n",
    "        time.sleep(0.1)\n",
    "        leds_2()\n",
    "        time.sleep(0.1)\n",
    "        leds_3()\n",
    "        time.sleep(0.1)\n",
    "\n",
    "@tdmclient.notebook.sync_var\n",
    "def leds_1():\n",
    "    global leds_top, leds_bottom_left, leds_bottom_right, leds_circle\n",
    "    leds_top = [32, 0, 0]\n",
    "    leds_bottom_left = [0, 32, 0]\n",
    "    leds_bottom_right = [0, 0, 32]\n",
    "    leds_circle = [32, 32, 32, 32, 0, 0, 0, 0]\n",
    "\n",
    "@tdmclient.notebook.sync_var\n",
    "def leds_2():\n",
    "    global leds_top, leds_bottom_left, leds_bottom_right, leds_circle\n",
    "    leds_top = [0, 32, 0]\n",
    "    leds_bottom_left = [0, 0, 32]\n",
    "    leds_bottom_right = [32, 0, 0]\n",
    "    leds_circle = [0, 0, 0, 0, 32, 32, 32, 32]\n",
    "\n",
    "@tdmclient.notebook.sync_var\n",
    "def leds_3():\n",
    "    global leds_top, leds_bottom_left, leds_bottom_right, leds_circle\n",
    "    leds_top = [0, 0, 32]\n",
    "    leds_bottom_left = [32, 0, 0]\n",
    "    leds_bottom_right = [0, 32, 0]\n",
    "    leds_circle = [32, 0, 32, 0, 32, 0, 32, 0]"
   ]
  },
  {
   "cell_type": "code",
   "execution_count": null,
   "metadata": {},
   "outputs": [],
   "source": [
    "# vision = Vision()\n",
    "globalPlanning = GlobalPlanning()\n",
    "localPlanning = LocalPlanning()\n",
    "thymio = ThymioControl()\n",
    "plotter = Plotter()\n",
    "filter = Kalman()"
   ]
  },
  {
   "cell_type": "code",
   "execution_count": null,
   "metadata": {},
   "outputs": [
    {
     "ename": "NameError",
     "evalue": "name 'np' is not defined",
     "output_type": "error",
     "traceback": [
      "\u001b[1;31m---------------------------------------------------------------------------\u001b[0m",
      "\u001b[1;31mNameError\u001b[0m                                 Traceback (most recent call last)",
      "Cell \u001b[1;32mIn[2], line 1\u001b[0m\n\u001b[1;32m----> 1\u001b[0m matrix \u001b[38;5;241m=\u001b[39m \u001b[43mnp\u001b[49m\u001b[38;5;241m.\u001b[39mzeros((\u001b[38;5;241m20\u001b[39m, \u001b[38;5;241m30\u001b[39m))\n\u001b[0;32m      2\u001b[0m matrix[\u001b[38;5;241m1\u001b[39m:\u001b[38;5;241m6\u001b[39m, \u001b[38;5;241m9\u001b[39m:\u001b[38;5;241m11\u001b[39m] \u001b[38;5;241m=\u001b[39m \u001b[38;5;241m-\u001b[39m\u001b[38;5;241m1\u001b[39m; matrix[\u001b[38;5;241m11\u001b[39m, \u001b[38;5;241m1\u001b[39m] \u001b[38;5;241m=\u001b[39m \u001b[38;5;241m-\u001b[39m\u001b[38;5;241m1\u001b[39m; matrix[\u001b[38;5;241m10\u001b[39m:\u001b[38;5;241m17\u001b[39m, \u001b[38;5;241m17\u001b[39m:\u001b[38;5;241m26\u001b[39m] \u001b[38;5;241m=\u001b[39m \u001b[38;5;241m-\u001b[39m\u001b[38;5;241m1\u001b[39m\n\u001b[0;32m      3\u001b[0m start \u001b[38;5;241m=\u001b[39m (\u001b[38;5;241m1\u001b[39m, \u001b[38;5;241m1\u001b[39m)\n",
      "\u001b[1;31mNameError\u001b[0m: name 'np' is not defined"
     ]
    }
   ],
   "source": [
    "matrix = np.zeros((20, 30))\n",
    "matrix[1:6, 9:11] = -1; matrix[11, 1] = -1; matrix[10:17, 17:26] = -1\n",
    "start = (1, 1)\n",
    "goal = (19, 28)\n",
    "plotter.set_map(matrix, start, goal)\n",
    "\n",
    "plotter.plot_map()"
   ]
  },
  {
   "cell_type": "code",
   "execution_count": null,
   "metadata": {},
   "outputs": [],
   "source": [
    "motor_go(100, 100)"
   ]
  },
  {
   "cell_type": "code",
   "execution_count": null,
   "metadata": {},
   "outputs": [],
   "source": [
    "motor_stop()"
   ]
  },
  {
   "cell_type": "code",
   "execution_count": null,
   "metadata": {},
   "outputs": [
    {
     "ename": "NameError",
     "evalue": "name 'matrix' is not defined",
     "output_type": "error",
     "traceback": [
      "\u001b[1;31m---------------------------------------------------------------------------\u001b[0m",
      "\u001b[1;31mNameError\u001b[0m                                 Traceback (most recent call last)",
      "Cell \u001b[1;32mIn[1], line 11\u001b[0m\n\u001b[0;32m      7\u001b[0m \u001b[38;5;28miter\u001b[39m \u001b[38;5;241m=\u001b[39m \u001b[38;5;241m1\u001b[39m\n\u001b[0;32m      9\u001b[0m goal \u001b[38;5;241m=\u001b[39m \u001b[38;5;28;01mFalse\u001b[39;00m\n\u001b[1;32m---> 11\u001b[0m \u001b[38;5;28mmap\u001b[39m \u001b[38;5;241m=\u001b[39m \u001b[43mmatrix\u001b[49m\n\u001b[0;32m     13\u001b[0m \u001b[38;5;66;03m# initial position and angle\u001b[39;00m\n\u001b[0;32m     14\u001b[0m position \u001b[38;5;241m=\u001b[39m np\u001b[38;5;241m.\u001b[39marray(start)\n",
      "\u001b[1;31mNameError\u001b[0m: name 'matrix' is not defined"
     ]
    }
   ],
   "source": [
    "x_trajectory = []\n",
    "y_trajectory = []\n",
    "kalman_positions = []\n",
    "\n",
    "dt = 0.15\n",
    "\n",
    "iter = 1\n",
    "\n",
    "goal = False\n",
    "\n",
    "map = matrix\n",
    "\n",
    "# initial position and angle\n",
    "position = np.array(start)\n",
    "goal_pos = goal\n",
    "angle = 0\n",
    "\n",
    "thymio.set_timestep(dt)\n",
    "\n",
    "# leds_off()\n",
    "\n",
    "while not goal:\n",
    "    print(\"Position: \", position)\n",
    "    # print(\"position 0: \", position[0])\n",
    "    # print(\"position 1: \", position[1])\n",
    "    print(\"Angle: \", angle)\n",
    "\n",
    "    if (iter == 1):\n",
    "        print(\"First iteration\")\n",
    "\n",
    "        thymio.set_pose(position, angle)\n",
    "\n",
    "        print(\"Computing path\")\n",
    "        # print(\"Map shape: \", map.shape)\n",
    "        path = globalPlanning.dijkstra(map, tuple(position), goal_pos)\n",
    "        print(\"Path: \", path)\n",
    "        thymio.set_path(path)\n",
    "        plotter.set_map(map, position, goal_pos)\n",
    "        plotter.plot_path(thymio.get_path_cells())\n",
    "        print(\"Path: \", thymio.get_path_cells())\n",
    "        filter.initialize_position(thymio.get_position()[0], thymio.get_position()[1], angle)\n",
    "        filter.set_lastKalman_time()\n",
    "\n",
    "    # check if camera is obstructed\n",
    "    if position is not None:\n",
    "        thymio.update_pose(position, angle)\n",
    "        x_trajectory.append(float(position[0]))\n",
    "        y_trajectory.append(float(position[1]))\n",
    "        # camera measuerement that will then be used for the Kalman filter\n",
    "        measurement = np.array([thymio.get_position()[0], thymio.get_position()[1], angle])\n",
    "        # filter.kalman_update(measurement)\n",
    "        # print(\"Kalman update: \", filter.get_state())\n",
    "    \n",
    "    # get the state from the Kalman filter\n",
    "    # the result will depend on the mode of the filter\n",
    "    x, y, angle = filter.get_state()\n",
    "    kalman_position = [x, y]\n",
    "    kalman_positions.append(position)\n",
    "    print(\"Kalman position used: \", kalman_position)\n",
    "    print(\"Kalman angle used: \", angle)\n",
    "\n",
    "    # check if the robot is detecting an obstacle\n",
    "    # tmclient function to get the proximity sensors\n",
    "    prox = sensor_data()\n",
    "    if (localPlanning.is_obstacle_avoidance(prox)):\n",
    "        # move with local planning until the robot is not back on the path\n",
    "        wl, wr = localPlanning.obstacle_avoidance(prox)\n",
    "        v, w = thymio.inverseDifferentialDrive(wl, wr)\n",
    "    else:\n",
    "        # move with global planning\n",
    "        v, w, wl, wr, goal = thymio.move(kalman_position, angle)\n",
    "\n",
    "    print(\"Speed: \", thymio.convert_speed_cells(v), w)\n",
    "    print(\"Motor commands: \", wl, wr)\n",
    "\n",
    "    # update the Kalman filter\n",
    "    filter.kalman_prediction(wl, wr)\n",
    "    print(\"Kalman prediction: \", filter.get_state())\n",
    "\n",
    "    # tmdclient function to move the motors\n",
    "    wl = int(wl)\n",
    "    wr = int(wr)\n",
    "\n",
    "    if abs(w) < 1e-6:\n",
    "        # treat as a straight line\n",
    "        position[0] = kalman_position[0] + v * dt * math.cos(angle)\n",
    "        position[1] = kalman_position[1] + v * dt * math.sin(angle)\n",
    "    else:\n",
    "        # use the circular motion equations\n",
    "        position[0] = kalman_position[0] + (v / w) * (math.sin(angle + w * dt) - math.sin(angle))\n",
    "        position[1] = kalman_position[1] - (v / w) * (math.cos(angle + w * dt) - math.cos(angle))\n",
    "\n",
    "\n",
    "    position[0] = thymio.mm_to_cells(position[0])\n",
    "    position[1] = thymio.mm_to_cells(position[1])\n",
    "\n",
    "    print(\"calculated position: \", position)\n",
    "\n",
    "    c_angle = (angle + w*dt) % (2 * math.pi)\n",
    "    print(\"calculated angle: \", c_angle)\n",
    "    \n",
    "    print(\"Trajectory: \", x_trajectory, y_trajectory)\n",
    "    plotter.plot_trajectory(x_trajectory, y_trajectory)\n",
    "\n",
    "    print(\"wl, wr: \", wl, wr)\n",
    "    motor_go(wl, wr)\n",
    "    \n",
    "    \n",
    "    # sleep for a while\n",
    "    iter += 1\n",
    "    time.sleep(dt)\n",
    "\n",
    "motor_stop()\n",
    "leds_go_crazy()\n",
    "leds_off()"
   ]
  },
  {
   "cell_type": "code",
   "execution_count": null,
   "metadata": {},
   "outputs": [],
   "source": []
  },
  {
   "cell_type": "code",
   "execution_count": null,
   "metadata": {},
   "outputs": [],
   "source": []
  }
 ],
 "metadata": {
  "kernelspec": {
   "display_name": "Python 3",
   "language": "python",
   "name": "python3"
  },
  "language_info": {
   "codemirror_mode": {
    "name": "ipython",
    "version": 3
   },
   "file_extension": ".py",
   "mimetype": "text/x-python",
   "name": "python",
   "nbconvert_exporter": "python",
   "pygments_lexer": "ipython3",
   "version": "3.10.9"
  }
 },
 "nbformat": 4,
 "nbformat_minor": 2
}
