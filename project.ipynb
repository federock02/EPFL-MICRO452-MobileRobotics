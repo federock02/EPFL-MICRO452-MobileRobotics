{
 "cells": [
  {
   "cell_type": "code",
   "execution_count": 1,
   "metadata": {},
   "outputs": [],
   "source": [
    "from vision import Vision\n",
    "import cv2"
   ]
  },
  {
   "cell_type": "markdown",
   "metadata": {},
   "source": [
    "VISION"
   ]
  },
  {
   "cell_type": "code",
   "execution_count": null,
   "metadata": {},
   "outputs": [],
   "source": [
    "# Main function to test the Vision class\n",
    "if __name__ == \"__main__\":\n",
    "    try:\n",
    "        vision = Vision(target_height=10)\n",
    "        \n",
    "        \n",
    "        vision.update()\n",
    "        matrix = vision.get_matrix()\n",
    "        print(\"Color Matrix:\")\n",
    "        print(matrix)\n",
    "\n",
    "\n",
    "\n",
    "        # while True:                                           capture images in loop\n",
    "        #     # Update the vision system\n",
    "        #     vision.update()\n",
    "\n",
    "        #     # Get the current matrix and display it\n",
    "        #     matrix = vision.get_matrix()\n",
    "        #     print(\"Color Matrix:\")\n",
    "        #     print(matrix)\n",
    "\n",
    "        #     # Display the current image\n",
    "        #     cv2.imshow(\"Captured Image\", vision.get_image())    \n",
    "    finally:\n",
    "        vision.release()\n"
   ]
  },
  {
   "cell_type": "markdown",
   "metadata": {},
   "source": [
    "GLOBAL PLANNING"
   ]
  },
  {
   "cell_type": "code",
   "execution_count": null,
   "metadata": {},
   "outputs": [],
   "source": []
  },
  {
   "cell_type": "markdown",
   "metadata": {},
   "source": [
    "LOCAL PLANNING"
   ]
  },
  {
   "cell_type": "code",
   "execution_count": null,
   "metadata": {},
   "outputs": [],
   "source": []
  },
  {
   "cell_type": "markdown",
   "metadata": {},
   "source": [
    "FLITERING"
   ]
  },
  {
   "cell_type": "code",
   "execution_count": null,
   "metadata": {},
   "outputs": [],
   "source": []
  },
  {
   "cell_type": "markdown",
   "metadata": {},
   "source": [
    "MOTION CONTROL"
   ]
  },
  {
   "cell_type": "code",
   "execution_count": null,
   "metadata": {},
   "outputs": [],
   "source": []
  }
 ],
 "metadata": {
  "kernelspec": {
   "display_name": "Python 3",
   "language": "python",
   "name": "python3"
  },
  "language_info": {
   "codemirror_mode": {
    "name": "ipython",
    "version": 3
   },
   "file_extension": ".py",
   "mimetype": "text/x-python",
   "name": "python",
   "nbconvert_exporter": "python",
   "pygments_lexer": "ipython3",
   "version": "3.9.6"
  }
 },
 "nbformat": 4,
 "nbformat_minor": 2
}
