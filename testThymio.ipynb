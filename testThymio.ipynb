{
 "cells": [
  {
   "cell_type": "code",
   "execution_count": 6,
   "metadata": {},
   "outputs": [],
   "source": [
    "from vision import Vision\n",
    "from globalPlanning import GlobalPlanning\n",
    "from localPlanning import LocalPlanning\n",
    "from kalman import Kalman\n",
    "from plotter import Plotter\n",
    "from thymioControl import ThymioControl"
   ]
  },
  {
   "cell_type": "code",
   "execution_count": 7,
   "metadata": {},
   "outputs": [
    {
     "name": "stdout",
     "output_type": "stream",
     "text": [
      "Requirement already satisfied: tdmclient in c:\\users\\feder\\desktop\\everything\\epfl\\semester1\\micro-452 - basics of mobile robotics\\project\\.venv\\lib\\site-packages (0.1.21)\n",
      "Requirement already satisfied: websockets in c:\\users\\feder\\desktop\\everything\\epfl\\semester1\\micro-452 - basics of mobile robotics\\project\\.venv\\lib\\site-packages (from tdmclient) (14.1)\n",
      "Requirement already satisfied: zeroconf in c:\\users\\feder\\desktop\\everything\\epfl\\semester1\\micro-452 - basics of mobile robotics\\project\\.venv\\lib\\site-packages (from tdmclient) (0.136.2)\n",
      "Requirement already satisfied: ifaddr>=0.1.7 in c:\\users\\feder\\desktop\\everything\\epfl\\semester1\\micro-452 - basics of mobile robotics\\project\\.venv\\lib\\site-packages (from zeroconf->tdmclient) (0.2.0)\n"
     ]
    }
   ],
   "source": [
    "!pip3 install tdmclient --upgrade"
   ]
  },
  {
   "cell_type": "code",
   "execution_count": 8,
   "metadata": {},
   "outputs": [],
   "source": [
    "import tdmclient.notebook\n",
    "await tdmclient.notebook.start()"
   ]
  },
  {
   "cell_type": "code",
   "execution_count": 9,
   "metadata": {},
   "outputs": [],
   "source": [
    "@tdmclient.notebook.sync_var\n",
    "def motor_go(left,right):\n",
    "    global motor_left_target, motor_right_target\n",
    "    motor_left_target = left\n",
    "    motor_right_target = right\n",
    "    \n",
    "@tdmclient.notebook.sync_var\n",
    "def motor_stop():\n",
    "    global motor_left_target,motor_right_target\n",
    "    motor_left_target = 0\n",
    "    motor_right_target = 0\n",
    "    \n",
    "@tdmclient.notebook.sync_var\n",
    "def sensor_data():\n",
    "    global prox_horizontal\n",
    "    return prox_horizontal.copy()"
   ]
  },
  {
   "cell_type": "code",
   "execution_count": 37,
   "metadata": {},
   "outputs": [],
   "source": [
    "motor_stop()"
   ]
  },
  {
   "cell_type": "code",
   "execution_count": null,
   "metadata": {},
   "outputs": [],
   "source": [
    "lenght = 93\n",
    "radius = 22\n",
    "conv = 65.5\n",
    "adjustment = 1.1\n",
    "\n",
    "v = 100 # mm/s\n",
    "w = 0 # rad/s\n",
    "\n",
    "\n",
    "wl = int(conv * 1.1 * (v - lenght * w / 2) / radius)\n",
    "wr = int(conv * (v + lenght * w / 2) / radius)\n",
    "\n",
    "motor_go(wl,wr)"
   ]
  },
  {
   "cell_type": "code",
   "execution_count": 36,
   "metadata": {},
   "outputs": [
    {
     "name": "stdout",
     "output_type": "stream",
     "text": [
      "32.06106870229008 0.032832635639826\n"
     ]
    }
   ],
   "source": [
    "wl = 100\n",
    "wr = 100\n",
    "\n",
    "motor_go(wl,wr)\n",
    "\n",
    "w = ((wr - wl/adjustment) * radius / conv) / lenght\n",
    "v = ((wr + wl/adjustment) * radius / conv) / 2\n",
    "\n",
    "print(v,w)"
   ]
  }
 ],
 "metadata": {
  "kernelspec": {
   "display_name": ".venv",
   "language": "python",
   "name": "python3"
  },
  "language_info": {
   "codemirror_mode": {
    "name": "ipython",
    "version": 3
   },
   "file_extension": ".py",
   "mimetype": "text/x-python",
   "name": "python",
   "nbconvert_exporter": "python",
   "pygments_lexer": "ipython3",
   "version": "3.12.7"
  }
 },
 "nbformat": 4,
 "nbformat_minor": 2
}
