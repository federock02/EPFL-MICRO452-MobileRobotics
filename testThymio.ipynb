{
 "cells": [
  {
   "cell_type": "code",
   "execution_count": 1,
   "metadata": {},
   "outputs": [],
   "source": [
    "from vision import Vision\n",
    "from globalPlanning import GlobalPlanning\n",
    "from localPlanning import LocalPlanning\n",
    "from kalman import Kalman\n",
    "from plotter import Plotter\n",
    "from thymioControl import ThymioControl"
   ]
  },
  {
   "cell_type": "code",
   "execution_count": 2,
   "metadata": {},
   "outputs": [
    {
     "name": "stdout",
     "output_type": "stream",
     "text": [
      "Requirement already satisfied: tdmclient in c:\\users\\feder\\desktop\\everything\\epfl\\semester1\\micro-452 - basics of mobile robotics\\project\\.venv\\lib\\site-packages (0.1.21)\n",
      "Requirement already satisfied: websockets in c:\\users\\feder\\desktop\\everything\\epfl\\semester1\\micro-452 - basics of mobile robotics\\project\\.venv\\lib\\site-packages (from tdmclient) (14.1)\n",
      "Requirement already satisfied: zeroconf in c:\\users\\feder\\desktop\\everything\\epfl\\semester1\\micro-452 - basics of mobile robotics\\project\\.venv\\lib\\site-packages (from tdmclient) (0.136.2)\n",
      "Requirement already satisfied: ifaddr>=0.1.7 in c:\\users\\feder\\desktop\\everything\\epfl\\semester1\\micro-452 - basics of mobile robotics\\project\\.venv\\lib\\site-packages (from zeroconf->tdmclient) (0.2.0)\n"
     ]
    }
   ],
   "source": [
    "!pip3 install tdmclient --upgrade"
   ]
  },
  {
   "cell_type": "code",
   "execution_count": 29,
   "metadata": {},
   "outputs": [],
   "source": [
    "import tdmclient.notebook\n",
    "await tdmclient.notebook.start()"
   ]
  },
  {
   "cell_type": "code",
   "execution_count": 32,
   "metadata": {},
   "outputs": [],
   "source": [
    "@tdmclient.notebook.sync_var\n",
    "def motor_go(left,right):\n",
    "    global motor_left_target, motor_right_target\n",
    "    motor_left_target = left\n",
    "    motor_right_target = right\n",
    "    \n",
    "@tdmclient.notebook.sync_var\n",
    "def motor_stop():\n",
    "    global motor_left_target,motor_right_target\n",
    "    motor_left_target = 0\n",
    "    motor_right_target = 0\n",
    "    \n",
    "@tdmclient.notebook.sync_var\n",
    "def sensor_data():\n",
    "    global prox_horizontal\n",
    "    return prox_horizontal.copy()\n",
    "\n",
    "@tdmclient.notebook.sync_var\n",
    "def leds():\n",
    "    global leds_top, leds_bottom_left, leds_bottom_right, leds_temperature, leds_circle\n",
    "    leds_top = [0, 0, 0]\n",
    "    leds_bottom_left = [0, 0, 0]\n",
    "    leds_bottom_right = [0, 0, 0]\n",
    "    leds_temperature = [0, 0]\n",
    "    leds_circle = [0, 0, 0, 0, 0, 0, 0, 0]\n"
   ]
  },
  {
   "cell_type": "code",
   "execution_count": 37,
   "metadata": {},
   "outputs": [],
   "source": [
    "motor_stop()"
   ]
  },
  {
   "cell_type": "code",
   "execution_count": 10,
   "metadata": {},
   "outputs": [
    {
     "name": "stdout",
     "output_type": "stream",
     "text": [
      "1 1\n"
     ]
    }
   ],
   "source": [
    "lenght = 93\n",
    "radius = 22\n",
    "conv = 0.3726\n",
    "adjustment = 1.07\n",
    "\n",
    "v = 100 # mm/s\n",
    "w = 0 # rad/s\n",
    "\n",
    "\n",
    "wl = int(conv * adjustment * (v + lenght * w / 2) / radius)\n",
    "wr = int(conv * (v - lenght * w / 2) / radius)\n",
    "\n",
    "print(wl,wr)\n",
    "\n",
    "#motor_go(wl,wr)"
   ]
  },
  {
   "cell_type": "code",
   "execution_count": 8,
   "metadata": {},
   "outputs": [
    {
     "name": "stdout",
     "output_type": "stream",
     "text": [
      "186.29999999999998 186.29999999999998\n",
      "1527.1383599999997 0.0\n"
     ]
    }
   ],
   "source": [
    "wl = 500\n",
    "wr = 500\n",
    "\n",
    "#motor_go(wl,wr)\n",
    "\n",
    "vl = wl * conv\n",
    "vr = wr * conv\n",
    "\n",
    "print(vl,vr)\n",
    "\n",
    "w = ((vl - vr) * radius * conv) / lenght\n",
    "v = ((vr + vl) * radius * conv) / 2\n",
    "\n",
    "print(v,w)"
   ]
  },
  {
   "cell_type": "code",
   "execution_count": 33,
   "metadata": {},
   "outputs": [],
   "source": [
    "leds()"
   ]
  },
  {
   "cell_type": "code",
   "execution_count": null,
   "metadata": {},
   "outputs": [],
   "source": []
  }
 ],
 "metadata": {
  "kernelspec": {
   "display_name": "Python 3",
   "language": "python",
   "name": "python3"
  },
  "language_info": {
   "codemirror_mode": {
    "name": "ipython",
    "version": 3
   },
   "file_extension": ".py",
   "mimetype": "text/x-python",
   "name": "python",
   "nbconvert_exporter": "python",
   "pygments_lexer": "ipython3",
   "version": "3.10.9"
  }
 },
 "nbformat": 4,
 "nbformat_minor": 2
}
